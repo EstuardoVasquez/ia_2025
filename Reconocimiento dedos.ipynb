{
 "cells": [
  {
   "cell_type": "code",
   "execution_count": 1,
   "id": "174b3270-dc81-486d-a520-c1a3b674467a",
   "metadata": {},
   "outputs": [
    {
     "name": "stderr",
     "output_type": "stream",
     "text": [
      "C:\\Python311\\Lib\\site-packages\\matplotlib\\projections\\__init__.py:63: UserWarning: Unable to import Axes3D. This may be due to multiple versions of Matplotlib being installed (e.g. as a system package and as a pip package). As a result, the 3D projection is not available.\n",
      "  warnings.warn(\"Unable to import Axes3D. This may be due to multiple versions of \"\n"
     ]
    }
   ],
   "source": [
    "import cv2\n",
    "import mediapipe as mp\n",
    "import math\n",
    "mp_drawing = mp.solutions.drawing_utils\n",
    "mp_hands = mp.solutions.hands\n",
    "def distancia(p1, p2):\n",
    "    return math.sqrt((p2.x - p1.x) **2 + (p2.y - p1.y) **2 + (p2.z - p1.z)**2)\n",
    "## funcion ára determinar si un dedo esta levantado\n",
    "def dedo_lenvantado(landmarks, dedo_tip, dedo_dip, dedo_pip,dedo_mcp):\n",
    "    #Compara la posicion \"y\" la del punto a la punto con los puntos anteriores\n",
    "    return (landmarks[dedo_tip]. y < landmarks[dedo_dip].y and landmarks[dedo_dip].y < landmarks[dedo_pip].y and landmarks[dedo_pip].y < landmarks[dedo_mcp].y)\n",
    "    "
   ]
  },
  {
   "cell_type": "code",
   "execution_count": 17,
   "id": "e4c6ce48-0f93-494e-80c0-3f20ee80f51e",
   "metadata": {},
   "outputs": [
    {
     "name": "stdout",
     "output_type": "stream",
     "text": [
      "Handedness:  [classification {\n",
      "  index: 1\n",
      "  score: 0.979790688\n",
      "  label: \"Right\"\n",
      "}\n",
      ", classification {\n",
      "  index: 0\n",
      "  score: 0.977327764\n",
      "  label: \"Left\"\n",
      "}\n",
      "]\n"
     ]
    }
   ],
   "source": [
    "\n",
    "with mp_hands.Hands(\n",
    "    static_image_mode= False,\n",
    "    max_num_hands = 2, \n",
    "    min_detection_confidence=0.5,\n",
    "    min_tracking_confidence=0.5) as hands:\n",
    "    \n",
    "    image = cv2.imread('./Images/mano3.jpg')\n",
    "    height, width , _ = image.shape´´´´´´´´´´´´´´´´´´´´´´´´´´´´´´´´´´´´´´´´´´´´´´´´´´´´´´´´´´´´´´´´´´´´´´´´´´´´\n",
    "    image = cv2.flip(image, 1)\n",
    "    image_rgb = cv2.cvtColor(image, cv2.COLOR_BGR2RGB)\n",
    "    results = hands.process(image_rgb)\n",
    "    print('Handedness: ', results.multi_handedness)"
   ]
  },
  {
   "cell_type": "code",
   "execution_count": 18,
   "id": "5c43854f-8fcf-4a34-89c7-8daf4fc28145",
   "metadata": {},
   "outputs": [],
   "source": [
    "if results.multi_hand_landmarks:\n",
    "    for hands_landmarks in results.multi_hand_landmarks:\n",
    "        # Dibujar las marcas y conexiones\n",
    "        mp_drawing.draw_landmarks(image, hands_landmarks, mp_hands.HAND_CONNECTIONS)\n",
    "        \n",
    "        # Obtener las marcas como una lista\n",
    "        landmarks = hands_landmarks.landmark\n",
    "        \n",
    "        # Definir los índices de los puntos de los dedos (según MEDIAPIPE)\n",
    "        PULGAR_TIP = 4\n",
    "        INDICE_TIP = 8\n",
    "        MEDIO_TIP = 12\n",
    "        ANULAR_TIP = 16\n",
    "        MENIQUE_TIP = 20\n"
   ]
  },
  {
   "cell_type": "code",
   "execution_count": 19,
   "id": "c194cdaf-98bc-430c-9639-1c14c7b71d6d",
   "metadata": {},
   "outputs": [],
   "source": [
    "# Puntos para cada dedo (tp, dip, pip, mcp)\n",
    "dedos = {\n",
    "    'Pulgar': (PULGAR_TIP, 2, 1, 0),\n",
    "    'Indice': (INDICE_TIP, 6, 5, 0),\n",
    "    'Medio': (MEDIO_TIP, 10, 9, 0),\n",
    "    'Anular': (ANULAR_TIP, 14, 13, 0),\n",
    "    'Menique': (MENIQUE_TIP, 18, 17, 0)\n",
    "}"
   ]
  },
  {
   "cell_type": "code",
   "execution_count": 20,
   "id": "70f10edb-7446-4c22-bfb6-45984bb585cc",
   "metadata": {},
   "outputs": [
    {
     "name": "stdout",
     "output_type": "stream",
     "text": [
      "Dedos Levantados:  ['Pulgar', 'Indice', 'Medio', 'Anular', 'Menique']\n"
     ]
    }
   ],
   "source": [
    "# Verificar que dedos estan levantados\n",
    "dedos_levantados = []\n",
    "for nombre, (tip, dip, pip, mcp) in dedos.items():\n",
    "    if dedo_lenvantado(landmarks, tip, dip, pip, mcp):\n",
    "        dedos_levantados.append(nombre)\n",
    "        \n",
    "print('Dedos Levantados: ', dedos_levantados)"
   ]
  },
  {
   "cell_type": "code",
   "execution_count": 21,
   "id": "c2100072-c66b-45e4-9393-b9932a29b16d",
   "metadata": {},
   "outputs": [
    {
     "data": {
      "text/plain": [
       "array([[[200, 203, 201],\n",
       "        [228, 231, 229],\n",
       "        [252, 255, 253],\n",
       "        ...,\n",
       "        [255, 255, 255],\n",
       "        [255, 255, 255],\n",
       "        [255, 255, 255]],\n",
       "\n",
       "       [[201, 204, 202],\n",
       "        [228, 231, 229],\n",
       "        [252, 255, 253],\n",
       "        ...,\n",
       "        [255, 255, 255],\n",
       "        [255, 255, 255],\n",
       "        [255, 255, 255]],\n",
       "\n",
       "       [[202, 205, 203],\n",
       "        [229, 232, 230],\n",
       "        [252, 255, 253],\n",
       "        ...,\n",
       "        [255, 255, 255],\n",
       "        [255, 255, 255],\n",
       "        [255, 255, 255]],\n",
       "\n",
       "       ...,\n",
       "\n",
       "       [[255, 255, 255],\n",
       "        [255, 255, 255],\n",
       "        [255, 255, 255],\n",
       "        ...,\n",
       "        [255, 255, 255],\n",
       "        [255, 255, 255],\n",
       "        [255, 255, 255]],\n",
       "\n",
       "       [[255, 255, 255],\n",
       "        [255, 255, 255],\n",
       "        [255, 255, 255],\n",
       "        ...,\n",
       "        [255, 255, 255],\n",
       "        [255, 255, 255],\n",
       "        [255, 255, 255]],\n",
       "\n",
       "       [[255, 255, 255],\n",
       "        [255, 255, 255],\n",
       "        [255, 255, 255],\n",
       "        ...,\n",
       "        [255, 255, 255],\n",
       "        [255, 255, 255],\n",
       "        [255, 255, 255]]], dtype=uint8)"
      ]
     },
     "execution_count": 21,
     "metadata": {},
     "output_type": "execute_result"
    }
   ],
   "source": [
    "# Mostrar los dedos levantados de la imagen\n",
    "cv2.putText(image, f\"Dedos: {'.'.join(dedos_levantados)}\", (10, 30), cv2.FONT_HERSHEY_SIMPLEX, 1, (0, 255, 0), 2)"
   ]
  },
  {
   "cell_type": "code",
   "execution_count": null,
   "id": "0e94b0fd-b183-465a-a902-ca11b9caa0e3",
   "metadata": {},
   "outputs": [],
   "source": [
    "#Mostrar la imagen resultante\n",
    "cv2.imshow('IMAGEN', image)\n",
    "cv2.waitKey(0)\n",
    "cv2.destroyAllWindows()*/"
   ]
  },
  {
   "cell_type": "code",
   "execution_count": null,
   "id": "3f3ce0f8-e978-4d09-9d3e-201373bbcfe2",
   "metadata": {},
   "outputs": [],
   "source": [
    "with mp_hands.Hands(\n",
    "    static_image_mode= False,\n",
    "    max_num_hands = 2, \n",
    "    min_detection_confidence=0.5,\n",
    "    min_tracking_confidence=0.5) as \n"
   ]
  }
 ],
 "metadata": {
  "kernelspec": {
   "display_name": "Python 3 (ipykernel)",
   "language": "python",
   "name": "python3"
  },
  "language_info": {
   "codemirror_mode": {
    "name": "ipython",
    "version": 3
   },
   "file_extension": ".py",
   "mimetype": "text/x-python",
   "name": "python",
   "nbconvert_exporter": "python",
   "pygments_lexer": "ipython3",
   "version": "3.11.4"
  }
 },
 "nbformat": 4,
 "nbformat_minor": 5
}
