{
 "cells": [
  {
   "cell_type": "markdown",
   "id": "1393d14a-83b8-4410-970d-aae1edbe1538",
   "metadata": {},
   "source": [
    "# Aplicacion de Matrices de Matrices al DATASET de Peso IRis"
   ]
  },
  {
   "cell_type": "code",
   "execution_count": 1,
   "id": "284ee8cb-08de-4f8c-ac6e-7b6e7d9011df",
   "metadata": {},
   "outputs": [
    {
     "name": "stderr",
     "output_type": "stream",
     "text": [
      "C:\\Python311\\Lib\\site-packages\\matplotlib\\projections\\__init__.py:63: UserWarning: Unable to import Axes3D. This may be due to multiple versions of Matplotlib being installed (e.g. as a system package and as a pip package). As a result, the 3D projection is not available.\n",
      "  warnings.warn(\"Unable to import Axes3D. This may be due to multiple versions of \"\n"
     ]
    }
   ],
   "source": [
    "import math\n",
    "import numpy as np\n",
    "import seaborn as sns    "
   ]
  },
  {
   "cell_type": "code",
   "execution_count": 2,
   "id": "9aadc070-e791-4d75-bae1-66410f362229",
   "metadata": {},
   "outputs": [],
   "source": [
    "# Matriz de pesos - 1ra. capa oculta\n",
    "W1 = np.array([[7.6712312, -2.3188057], \n",
    "               [0.8215116, -0.8694827], \n",
    "               [-2.3669804, 4.9042392],\n",
    "               [-1.1636942, -1.7390138],\n",
    "              [-2.6457791, -2.2029077]])"
   ]
  },
  {
   "cell_type": "code",
   "execution_count": 3,
   "id": "9fb3f2ea-cef6-4719-87f0-5740e0184b26",
   "metadata": {},
   "outputs": [],
   "source": [
    "W2 = np.array([[  0.6931661,  -1.0937871,    6.229653], \n",
    "               [ -0.0610779,   0.1110453, -147.538749], \n",
    "               [ -1.7816381,   2.2046631, -474.784991]])"
   ]
  },
  {
   "cell_type": "code",
   "execution_count": 4,
   "id": "7ef6f98b-a5fb-411e-86d0-cda0d6ded6bb",
   "metadata": {},
   "outputs": [],
   "source": [
    "W3 = np.array([[ 0.14081511,  0.3761626,  -0.8494644], \n",
    "               [-0.76695128,  1.3313801,   0.9650682], \n",
    "               [ 1.36550108, -0.9151961,   0.8008893], \n",
    "               [ 0.02726226, -1.0294947,   1.0011598]])"
   ]
  },
  {
   "cell_type": "code",
   "execution_count": 5,
   "id": "6e316be5-d52f-4758-a695-d2c463d27784",
   "metadata": {},
   "outputs": [],
   "source": [
    "def f_act(X):\n",
    "    activada = np.array([1 / (1 + math.exp(-x)) for x in X])\n",
    "    return activada"
   ]
  },
  {
   "cell_type": "markdown",
   "id": "5ce03006-4256-4ed4-9516-4beeb7bd656c",
   "metadata": {},
   "source": [
    "# CARGA DE DATOS"
   ]
  },
  {
   "cell_type": "code",
   "execution_count": 6,
   "id": "47d6b4ec-7766-4fba-9c11-77347ee194e8",
   "metadata": {},
   "outputs": [
    {
     "data": {
      "text/plain": [
       "array(['setosa', 'versicolor', 'virginica'], dtype=object)"
      ]
     },
     "execution_count": 6,
     "metadata": {},
     "output_type": "execute_result"
    }
   ],
   "source": [
    "iris  = sns.load_dataset('iris')\n",
    "xcols  =['sepal_length', 'sepal_width', 'petal_length', 'petal_width']\n",
    "especie = iris['species'].unique()\n",
    "especie"
   ]
  },
  {
   "cell_type": "code",
   "execution_count": 7,
   "id": "aec81da4-d341-46e8-b191-98c96054daa8",
   "metadata": {},
   "outputs": [
    {
     "data": {
      "text/html": [
       "<div>\n",
       "<style scoped>\n",
       "    .dataframe tbody tr th:only-of-type {\n",
       "        vertical-align: middle;\n",
       "    }\n",
       "\n",
       "    .dataframe tbody tr th {\n",
       "        vertical-align: top;\n",
       "    }\n",
       "\n",
       "    .dataframe thead th {\n",
       "        text-align: right;\n",
       "    }\n",
       "</style>\n",
       "<table border=\"1\" class=\"dataframe\">\n",
       "  <thead>\n",
       "    <tr style=\"text-align: right;\">\n",
       "      <th></th>\n",
       "      <th>bias</th>\n",
       "      <th>sepal_length</th>\n",
       "      <th>sepal_width</th>\n",
       "      <th>petal_length</th>\n",
       "      <th>petal_width</th>\n",
       "    </tr>\n",
       "  </thead>\n",
       "  <tbody>\n",
       "    <tr>\n",
       "      <th>0</th>\n",
       "      <td>1</td>\n",
       "      <td>5.1</td>\n",
       "      <td>3.5</td>\n",
       "      <td>1.4</td>\n",
       "      <td>0.2</td>\n",
       "    </tr>\n",
       "    <tr>\n",
       "      <th>1</th>\n",
       "      <td>1</td>\n",
       "      <td>4.9</td>\n",
       "      <td>3.0</td>\n",
       "      <td>1.4</td>\n",
       "      <td>0.2</td>\n",
       "    </tr>\n",
       "    <tr>\n",
       "      <th>2</th>\n",
       "      <td>1</td>\n",
       "      <td>4.7</td>\n",
       "      <td>3.2</td>\n",
       "      <td>1.3</td>\n",
       "      <td>0.2</td>\n",
       "    </tr>\n",
       "    <tr>\n",
       "      <th>3</th>\n",
       "      <td>1</td>\n",
       "      <td>4.6</td>\n",
       "      <td>3.1</td>\n",
       "      <td>1.5</td>\n",
       "      <td>0.2</td>\n",
       "    </tr>\n",
       "    <tr>\n",
       "      <th>4</th>\n",
       "      <td>1</td>\n",
       "      <td>5.0</td>\n",
       "      <td>3.6</td>\n",
       "      <td>1.4</td>\n",
       "      <td>0.2</td>\n",
       "    </tr>\n",
       "  </tbody>\n",
       "</table>\n",
       "</div>"
      ],
      "text/plain": [
       "   bias  sepal_length  sepal_width  petal_length  petal_width\n",
       "0     1           5.1          3.5           1.4          0.2\n",
       "1     1           4.9          3.0           1.4          0.2\n",
       "2     1           4.7          3.2           1.3          0.2\n",
       "3     1           4.6          3.1           1.5          0.2\n",
       "4     1           5.0          3.6           1.4          0.2"
      ]
     },
     "execution_count": 7,
     "metadata": {},
     "output_type": "execute_result"
    }
   ],
   "source": [
    "X = iris[xcols].copy()\n",
    "X.insert(0, 'bias', 1)\n",
    "X.head()"
   ]
  },
  {
   "cell_type": "markdown",
   "id": "586b5dc2-073b-43f8-840f-bf23b5b62ba0",
   "metadata": {},
   "source": [
    "# PREDICCION"
   ]
  },
  {
   "cell_type": "code",
   "execution_count": 9,
   "id": "1650afc1-51a1-4747-8c89-16ec09ae8563",
   "metadata": {},
   "outputs": [],
   "source": [
    "prediccion = []\n",
    "for index, fila in X.iterrows():\n",
    "    capa1 = f_act(fila.dot(W1))\n",
    "    capa1 = np.insert(capa1, 0, 1)\n",
    "    capa2 = f_act(capa1.dot(W2))\n",
    "    capa2 = np.insert(capa2, 0, 1)\n",
    "    salida = f_act(capa2.dot(W3))\n",
    "    prediccion.append(especie[np.argmax(salida)])"
   ]
  },
  {
   "cell_type": "code",
   "execution_count": 10,
   "id": "f9ba7208-f59c-405e-af6b-7abd8e3b4c9f",
   "metadata": {},
   "outputs": [
    {
     "data": {
      "text/html": [
       "<div>\n",
       "<style scoped>\n",
       "    .dataframe tbody tr th:only-of-type {\n",
       "        vertical-align: middle;\n",
       "    }\n",
       "\n",
       "    .dataframe tbody tr th {\n",
       "        vertical-align: top;\n",
       "    }\n",
       "\n",
       "    .dataframe thead th {\n",
       "        text-align: right;\n",
       "    }\n",
       "</style>\n",
       "<table border=\"1\" class=\"dataframe\">\n",
       "  <thead>\n",
       "    <tr style=\"text-align: right;\">\n",
       "      <th></th>\n",
       "      <th>sepal_length</th>\n",
       "      <th>sepal_width</th>\n",
       "      <th>petal_length</th>\n",
       "      <th>petal_width</th>\n",
       "      <th>species</th>\n",
       "      <th>Prediccion</th>\n",
       "    </tr>\n",
       "  </thead>\n",
       "  <tbody>\n",
       "    <tr>\n",
       "      <th>0</th>\n",
       "      <td>5.1</td>\n",
       "      <td>3.5</td>\n",
       "      <td>1.4</td>\n",
       "      <td>0.2</td>\n",
       "      <td>setosa</td>\n",
       "      <td>setosa</td>\n",
       "    </tr>\n",
       "    <tr>\n",
       "      <th>1</th>\n",
       "      <td>4.9</td>\n",
       "      <td>3.0</td>\n",
       "      <td>1.4</td>\n",
       "      <td>0.2</td>\n",
       "      <td>setosa</td>\n",
       "      <td>setosa</td>\n",
       "    </tr>\n",
       "    <tr>\n",
       "      <th>2</th>\n",
       "      <td>4.7</td>\n",
       "      <td>3.2</td>\n",
       "      <td>1.3</td>\n",
       "      <td>0.2</td>\n",
       "      <td>setosa</td>\n",
       "      <td>setosa</td>\n",
       "    </tr>\n",
       "    <tr>\n",
       "      <th>3</th>\n",
       "      <td>4.6</td>\n",
       "      <td>3.1</td>\n",
       "      <td>1.5</td>\n",
       "      <td>0.2</td>\n",
       "      <td>setosa</td>\n",
       "      <td>setosa</td>\n",
       "    </tr>\n",
       "    <tr>\n",
       "      <th>4</th>\n",
       "      <td>5.0</td>\n",
       "      <td>3.6</td>\n",
       "      <td>1.4</td>\n",
       "      <td>0.2</td>\n",
       "      <td>setosa</td>\n",
       "      <td>setosa</td>\n",
       "    </tr>\n",
       "  </tbody>\n",
       "</table>\n",
       "</div>"
      ],
      "text/plain": [
       "   sepal_length  sepal_width  petal_length  petal_width species Prediccion\n",
       "0           5.1          3.5           1.4          0.2  setosa     setosa\n",
       "1           4.9          3.0           1.4          0.2  setosa     setosa\n",
       "2           4.7          3.2           1.3          0.2  setosa     setosa\n",
       "3           4.6          3.1           1.5          0.2  setosa     setosa\n",
       "4           5.0          3.6           1.4          0.2  setosa     setosa"
      ]
     },
     "execution_count": 10,
     "metadata": {},
     "output_type": "execute_result"
    }
   ],
   "source": [
    "iris['Prediccion'] = prediccion\n",
    "iris.head()"
   ]
  },
  {
   "cell_type": "code",
   "execution_count": 12,
   "id": "ed7063ce-9d14-4f91-aca1-23ddc432bc98",
   "metadata": {},
   "outputs": [
    {
     "data": {
      "text/plain": [
       "<pandas.core.indexing._iLocIndexer at 0x1b83971f9d0>"
      ]
     },
     "execution_count": 12,
     "metadata": {},
     "output_type": "execute_result"
    }
   ],
   "source": [
    "iris.iloc()"
   ]
  },
  {
   "cell_type": "markdown",
   "id": "295ce9af-8da1-42a4-9de5-356e5aeba4d8",
   "metadata": {},
   "source": [
    "# PREDICCIONES ERRONEAS"
   ]
  },
  {
   "cell_type": "code",
   "execution_count": 14,
   "id": "72a32003-7d9b-41e6-8a7b-d279432b4955",
   "metadata": {},
   "outputs": [
    {
     "data": {
      "text/html": [
       "<div>\n",
       "<style scoped>\n",
       "    .dataframe tbody tr th:only-of-type {\n",
       "        vertical-align: middle;\n",
       "    }\n",
       "\n",
       "    .dataframe tbody tr th {\n",
       "        vertical-align: top;\n",
       "    }\n",
       "\n",
       "    .dataframe thead th {\n",
       "        text-align: right;\n",
       "    }\n",
       "</style>\n",
       "<table border=\"1\" class=\"dataframe\">\n",
       "  <thead>\n",
       "    <tr style=\"text-align: right;\">\n",
       "      <th></th>\n",
       "      <th>sepal_length</th>\n",
       "      <th>sepal_width</th>\n",
       "      <th>petal_length</th>\n",
       "      <th>petal_width</th>\n",
       "      <th>species</th>\n",
       "      <th>Prediccion</th>\n",
       "    </tr>\n",
       "  </thead>\n",
       "  <tbody>\n",
       "    <tr>\n",
       "      <th>77</th>\n",
       "      <td>6.7</td>\n",
       "      <td>3.0</td>\n",
       "      <td>5.0</td>\n",
       "      <td>1.7</td>\n",
       "      <td>versicolor</td>\n",
       "      <td>virginica</td>\n",
       "    </tr>\n",
       "    <tr>\n",
       "      <th>83</th>\n",
       "      <td>6.0</td>\n",
       "      <td>2.7</td>\n",
       "      <td>5.1</td>\n",
       "      <td>1.6</td>\n",
       "      <td>versicolor</td>\n",
       "      <td>virginica</td>\n",
       "    </tr>\n",
       "    <tr>\n",
       "      <th>119</th>\n",
       "      <td>6.0</td>\n",
       "      <td>2.2</td>\n",
       "      <td>5.0</td>\n",
       "      <td>1.5</td>\n",
       "      <td>virginica</td>\n",
       "      <td>versicolor</td>\n",
       "    </tr>\n",
       "  </tbody>\n",
       "</table>\n",
       "</div>"
      ],
      "text/plain": [
       "     sepal_length  sepal_width  petal_length  petal_width     species  \\\n",
       "77            6.7          3.0           5.0          1.7  versicolor   \n",
       "83            6.0          2.7           5.1          1.6  versicolor   \n",
       "119           6.0          2.2           5.0          1.5   virginica   \n",
       "\n",
       "     Prediccion  \n",
       "77    virginica  \n",
       "83    virginica  \n",
       "119  versicolor  "
      ]
     },
     "execution_count": 14,
     "metadata": {},
     "output_type": "execute_result"
    }
   ],
   "source": [
    "errores = iris[iris['species'] != iris['Prediccion']]\n",
    "errores"
   ]
  },
  {
   "cell_type": "code",
   "execution_count": 18,
   "id": "c18010f0-6c4b-4e50-a245-b1c1c66d485c",
   "metadata": {},
   "outputs": [
    {
     "data": {
      "text/plain": [
       "98.0"
      ]
     },
     "execution_count": 18,
     "metadata": {},
     "output_type": "execute_result"
    }
   ],
   "source": [
    "eficiencia = (1 - len(errores)/len(iris))*100\n",
    "eficiencia"
   ]
  },
  {
   "cell_type": "code",
   "execution_count": null,
   "id": "50378e18-e3dc-46fc-b528-d9d66891afe1",
   "metadata": {},
   "outputs": [],
   "source": []
  }
 ],
 "metadata": {
  "kernelspec": {
   "display_name": "Python 3 (ipykernel)",
   "language": "python",
   "name": "python3"
  },
  "language_info": {
   "codemirror_mode": {
    "name": "ipython",
    "version": 3
   },
   "file_extension": ".py",
   "mimetype": "text/x-python",
   "name": "python",
   "nbconvert_exporter": "python",
   "pygments_lexer": "ipython3",
   "version": "3.11.4"
  }
 },
 "nbformat": 4,
 "nbformat_minor": 5
}
